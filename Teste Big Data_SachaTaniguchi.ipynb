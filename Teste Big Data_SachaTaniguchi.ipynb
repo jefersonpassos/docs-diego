{
 "cells": [
  {
   "cell_type": "markdown",
   "metadata": {},
   "source": [
    "<img src=\"./barquinho.png\">"
   ]
  },
  {
   "cell_type": "markdown",
   "metadata": {},
   "source": [
    "# Teste Big Data da Beijaflore"
   ]
  },
  {
   "cell_type": "markdown",
   "metadata": {},
   "source": [
    "Neste teste iremos avaliar as competências esperadas de PySpark e ETL."
   ]
  },
  {
   "cell_type": "markdown",
   "metadata": {},
   "source": [
    "## 1. Preparação"
   ]
  },
  {
   "cell_type": "markdown",
   "metadata": {},
   "source": [
    "### 1.1 Depedências"
   ]
  },
  {
   "cell_type": "code",
   "execution_count": null,
   "metadata": {},
   "outputs": [],
   "source": [
    "from pyspark import SparkContext \n",
    "from pyspark.sql import SQLContext \n",
    "from pyspark.sql.functions import * \n",
    "from pyspark.sql.types import * "
   ]
  },
  {
   "cell_type": "markdown",
   "metadata": {},
   "source": [
    "### 1.2 Spark e SQL Context"
   ]
  },
  {
   "cell_type": "code",
   "execution_count": null,
   "metadata": {},
   "outputs": [],
   "source": [
    "sc = SparkContext(\"local\", \"Teste_Sacha\")\n",
    "sql = SQLContext(sc) "
   ]
  },
  {
   "cell_type": "markdown",
   "metadata": {},
   "source": [
    "### 1.3 Schema do Dataframe"
   ]
  },
  {
   "cell_type": "markdown",
   "metadata": {},
   "source": [
    "Antes de carregar o DataFrame defina explicitamente o schema do dataset. Para entender melhor a estrutura dos dados confira a amostra `first100.csv`"
   ]
  },
  {
   "cell_type": "code",
   "execution_count": null,
   "metadata": {},
   "outputs": [],
   "source": [
    "\n",
    "schema_dataset = StructType([StructField(\"id\", IntegerType(), True),  \n",
    "                     StructField(\"country\", StringType(), True),  \n",
    "                     StructField(\"description\", StringType(), True),  \n",
    "                     StructField(\"designation\", StringType(), True),  \n",
    "                     StructField(\"points\", IntegerType(), True),  \n",
    "                     StructField(\"price\", DoubleType(), True),  \n",
    "                     StructField(\"province\", StringType(), True),  \n",
    "                     StructField(\"region_1\", StringType(), True),  \n",
    "                     StructField(\"region_2\", StringType(), True),  \n",
    "                     StructField(\"taster_name\", StringType(), True),  \n",
    "                     StructField(\"taser_twitter_handle\", StringType(), True),  \n",
    "                     StructField(\"title\", StringType(), True),  \n",
    "                     StructField(\"variety\", StringType(), True),  \n",
    "                     StructField(\"winery\", StringType(), True) ])\n"
   ]
  },
  {
   "cell_type": "markdown",
   "metadata": {},
   "source": [
    "### 1.4 Carregamento dos dados"
   ]
  },
  {
   "cell_type": "markdown",
   "metadata": {},
   "source": [
    "Carregue os dados do arquivo `reviews.csv` em um DataFrame"
   ]
  },
  {
   "cell_type": "code",
   "execution_count": null,
   "metadata": {},
   "outputs": [],
   "source": [
    "df_reviews = sql.read.csv(\"reviews.csv\", schema=schema_dataset, header=True)"
   ]
  },
  {
   "cell_type": "code",
   "execution_count": null,
   "metadata": {},
   "outputs": [],
   "source": [
    "print(df_reviews)"
   ]
  },
  {
   "cell_type": "markdown",
   "metadata": {},
   "source": [
    "O esquema deve ser parecido com o exemplo acima."
   ]
  },
  {
   "cell_type": "markdown",
   "metadata": {},
   "source": [
    "## 2. Desafios"
   ]
  },
  {
   "cell_type": "markdown",
   "metadata": {},
   "source": [
    "### 2.1 Quantos registros com vinhos franceses existem no dataset?\n",
    "\n",
    "**Resposta:** ..."
   ]
  },
  {
   "cell_type": "code",
   "execution_count": null,
   "metadata": {},
   "outputs": [],
   "source": [
    "df_reviews.filter(df_reviews['country'] == 'France').count() "
   ]
  },
  {
   "cell_type": "markdown",
   "metadata": {},
   "source": [
    "### 2.2 Salve todos registros de vinhos franceses em um arquivo parquet.\n",
    "\n",
    "https://parquet.apache.org/"
   ]
  },
  {
   "cell_type": "code",
   "execution_count": null,
   "metadata": {},
   "outputs": [],
   "source": [
    "france = df_reviews.filter(df_reviews['country'] == 'France') "
   ]
  },
  {
   "cell_type": "code",
   "execution_count": null,
   "metadata": {},
   "outputs": [],
   "source": [
    "france.write.parquet(\"france.parquet\") "
   ]
  },
  {
   "cell_type": "markdown",
   "metadata": {},
   "source": [
    "### 2.3 Qual a província Italiana com o maior número de reviews no dataset?\n",
    "\n",
    "**Resposta: ** ..."
   ]
  },
  {
   "cell_type": "code",
   "execution_count": null,
   "metadata": {},
   "outputs": [],
   "source": [
    "df_reviews.filter(df_reviews['country'] == 'Italy').groupBy('province').count().sort('count', ascending=False).show(1) "
   ]
  },
  {
   "cell_type": "markdown",
   "metadata": {},
   "source": [
    "### 2.4 Dentro dessa província, quem fez mais reviews?\n",
    "**Resposta: **"
   ]
  },
  {
   "cell_type": "code",
   "execution_count": null,
   "metadata": {},
   "outputs": [],
   "source": [
    "df_reviews.filter(df_reviews['province'] == 'Tuscany').groupBy('taster_name').count().sort('count', ascending=False).show(1)"
   ]
  },
  {
   "cell_type": "markdown",
   "metadata": {},
   "source": [
    "### 2.5 Salve todas reviews desta pessoa no formato JSON com as seguintes colunas: designation, points, price, title, variety e winery."
   ]
  },
  {
   "cell_type": "code",
   "execution_count": null,
   "metadata": {},
   "outputs": [],
   "source": [
    "kerin =  (df_reviews.filter((df_reviews['province'] == 'Tuscany') & (df_reviews['taster_name'] == \"Kerin O’Keefe\")).select(\"designation\", \"points\", \"price\", \"title\", \"variety\", \"winery\")) "
   ]
  },
  {
   "cell_type": "code",
   "execution_count": null,
   "metadata": {},
   "outputs": [],
   "source": [
    "kerin.write.json(\"kerin.json\")"
   ]
  },
  {
   "cell_type": "markdown",
   "metadata": {},
   "source": [
    "### 2.6 Qual o vinho com mais pontos da variedade mais comentada?\n",
    "**Resposta:** ..."
   ]
  },
  {
   "cell_type": "code",
   "execution_count": null,
   "metadata": {},
   "outputs": [],
   "source": [
    "df_reviews.groupBy(\"variety\").count().sort(\"count\", ascending=False).show(1) "
   ]
  },
  {
   "cell_type": "code",
   "execution_count": null,
   "metadata": {},
   "outputs": [],
   "source": []
  },
  {
   "cell_type": "markdown",
   "metadata": {},
   "source": [
    "**Teste criado por Diego Rodrigues da Beijaflore.**"
   ]
  }
 ],
 "metadata": {
  "kernelspec": {
   "display_name": "Python 3",
   "language": "python",
   "name": "python3"
  },
  "language_info": {
   "codemirror_mode": {
    "name": "ipython",
    "version": 3
   },
   "file_extension": ".py",
   "mimetype": "text/x-python",
   "name": "python",
   "nbconvert_exporter": "python",
   "pygments_lexer": "ipython3",
   "version": "3.6.5"
  }
 },
 "nbformat": 4,
 "nbformat_minor": 2
}
